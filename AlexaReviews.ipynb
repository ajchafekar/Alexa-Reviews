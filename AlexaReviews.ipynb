{
 "cells": [
  {
   "cell_type": "markdown",
   "id": "82f85313",
   "metadata": {},
   "source": [
    "## NLP Final Project "
   ]
  },
  {
   "cell_type": "markdown",
   "id": "30047fab",
   "metadata": {},
   "source": [
    "### Imported required libraries and packages"
   ]
  },
  {
   "cell_type": "code",
   "execution_count": 89,
   "id": "df1d56bb",
   "metadata": {},
   "outputs": [],
   "source": [
    "#Import Basic Libraries\n",
    "import nltk\n",
    "import pandas as pd\n",
    "import numpy as np\n",
    "import re\n",
    "import string\n",
    "import seaborn as sns\n",
    "\n",
    "# Import different Machine learning algorithm Libraries\n",
    "from sklearn.svm import SVC, LinearSVC\n",
    "from sklearn.linear_model import LogisticRegression\n",
    "\n",
    "#Import additional required packages\n",
    "from sklearn.feature_extraction.text import CountVectorizer\n",
    "from sklearn.metrics import classification_report, confusion_matrix\n",
    "from sklearn.model_selection import train_test_split\n",
    "\n",
    "# Define english stopwords, and define stem and lemma\n",
    "stopwords = nltk.corpus.stopwords.words('english')\n",
    "ps = nltk.PorterStemmer()\n",
    "wn = nltk.WordNetLemmatizer()\n",
    "\n",
    "#Ignore Warning messages\n",
    "import warnings\n",
    "warnings.filterwarnings(\"ignore\") #Ignore Warning Messages"
   ]
  },
  {
   "cell_type": "markdown",
   "id": "2d805a26",
   "metadata": {},
   "source": [
    "### Load the Alexa reviews dataset"
   ]
  },
  {
   "cell_type": "code",
   "execution_count": 90,
   "id": "84439ad7",
   "metadata": {},
   "outputs": [
    {
     "data": {
      "text/html": [
       "<div>\n",
       "<style scoped>\n",
       "    .dataframe tbody tr th:only-of-type {\n",
       "        vertical-align: middle;\n",
       "    }\n",
       "\n",
       "    .dataframe tbody tr th {\n",
       "        vertical-align: top;\n",
       "    }\n",
       "\n",
       "    .dataframe thead th {\n",
       "        text-align: right;\n",
       "    }\n",
       "</style>\n",
       "<table border=\"1\" class=\"dataframe\">\n",
       "  <thead>\n",
       "    <tr style=\"text-align: right;\">\n",
       "      <th></th>\n",
       "      <th>rating</th>\n",
       "      <th>date</th>\n",
       "      <th>variation</th>\n",
       "      <th>verified_reviews</th>\n",
       "      <th>feedback</th>\n",
       "    </tr>\n",
       "  </thead>\n",
       "  <tbody>\n",
       "    <tr>\n",
       "      <th>0</th>\n",
       "      <td>5</td>\n",
       "      <td>31-Jul-18</td>\n",
       "      <td>Charcoal Fabric</td>\n",
       "      <td>Love my Echo!</td>\n",
       "      <td>1</td>\n",
       "    </tr>\n",
       "    <tr>\n",
       "      <th>1</th>\n",
       "      <td>5</td>\n",
       "      <td>31-Jul-18</td>\n",
       "      <td>Charcoal Fabric</td>\n",
       "      <td>Loved it!</td>\n",
       "      <td>1</td>\n",
       "    </tr>\n",
       "    <tr>\n",
       "      <th>2</th>\n",
       "      <td>4</td>\n",
       "      <td>31-Jul-18</td>\n",
       "      <td>Walnut Finish</td>\n",
       "      <td>Sometimes while playing a game, you can answer...</td>\n",
       "      <td>1</td>\n",
       "    </tr>\n",
       "    <tr>\n",
       "      <th>3</th>\n",
       "      <td>5</td>\n",
       "      <td>31-Jul-18</td>\n",
       "      <td>Charcoal Fabric</td>\n",
       "      <td>I have had a lot of fun with this thing. My 4 ...</td>\n",
       "      <td>1</td>\n",
       "    </tr>\n",
       "    <tr>\n",
       "      <th>4</th>\n",
       "      <td>5</td>\n",
       "      <td>31-Jul-18</td>\n",
       "      <td>Charcoal Fabric</td>\n",
       "      <td>Music</td>\n",
       "      <td>1</td>\n",
       "    </tr>\n",
       "    <tr>\n",
       "      <th>...</th>\n",
       "      <td>...</td>\n",
       "      <td>...</td>\n",
       "      <td>...</td>\n",
       "      <td>...</td>\n",
       "      <td>...</td>\n",
       "    </tr>\n",
       "    <tr>\n",
       "      <th>3145</th>\n",
       "      <td>5</td>\n",
       "      <td>30-Jul-18</td>\n",
       "      <td>Black  Dot</td>\n",
       "      <td>Perfect for kids, adults and everyone in betwe...</td>\n",
       "      <td>1</td>\n",
       "    </tr>\n",
       "    <tr>\n",
       "      <th>3146</th>\n",
       "      <td>5</td>\n",
       "      <td>30-Jul-18</td>\n",
       "      <td>Black  Dot</td>\n",
       "      <td>Listening to music, searching locations, check...</td>\n",
       "      <td>1</td>\n",
       "    </tr>\n",
       "    <tr>\n",
       "      <th>3147</th>\n",
       "      <td>5</td>\n",
       "      <td>30-Jul-18</td>\n",
       "      <td>Black  Dot</td>\n",
       "      <td>I do love these things, i have them running my...</td>\n",
       "      <td>1</td>\n",
       "    </tr>\n",
       "    <tr>\n",
       "      <th>3148</th>\n",
       "      <td>5</td>\n",
       "      <td>30-Jul-18</td>\n",
       "      <td>White  Dot</td>\n",
       "      <td>Only complaint I have is that the sound qualit...</td>\n",
       "      <td>1</td>\n",
       "    </tr>\n",
       "    <tr>\n",
       "      <th>3149</th>\n",
       "      <td>4</td>\n",
       "      <td>29-Jul-18</td>\n",
       "      <td>Black  Dot</td>\n",
       "      <td>Good</td>\n",
       "      <td>1</td>\n",
       "    </tr>\n",
       "  </tbody>\n",
       "</table>\n",
       "<p>3150 rows × 5 columns</p>\n",
       "</div>"
      ],
      "text/plain": [
       "      rating       date         variation  \\\n",
       "0          5  31-Jul-18  Charcoal Fabric    \n",
       "1          5  31-Jul-18  Charcoal Fabric    \n",
       "2          4  31-Jul-18    Walnut Finish    \n",
       "3          5  31-Jul-18  Charcoal Fabric    \n",
       "4          5  31-Jul-18  Charcoal Fabric    \n",
       "...      ...        ...               ...   \n",
       "3145       5  30-Jul-18        Black  Dot   \n",
       "3146       5  30-Jul-18        Black  Dot   \n",
       "3147       5  30-Jul-18        Black  Dot   \n",
       "3148       5  30-Jul-18        White  Dot   \n",
       "3149       4  29-Jul-18        Black  Dot   \n",
       "\n",
       "                                       verified_reviews  feedback  \n",
       "0                                         Love my Echo!         1  \n",
       "1                                             Loved it!         1  \n",
       "2     Sometimes while playing a game, you can answer...         1  \n",
       "3     I have had a lot of fun with this thing. My 4 ...         1  \n",
       "4                                                 Music         1  \n",
       "...                                                 ...       ...  \n",
       "3145  Perfect for kids, adults and everyone in betwe...         1  \n",
       "3146  Listening to music, searching locations, check...         1  \n",
       "3147  I do love these things, i have them running my...         1  \n",
       "3148  Only complaint I have is that the sound qualit...         1  \n",
       "3149                                               Good         1  \n",
       "\n",
       "[3150 rows x 5 columns]"
      ]
     },
     "execution_count": 90,
     "metadata": {},
     "output_type": "execute_result"
    }
   ],
   "source": [
    "data = pd.read_csv(\"amazon_alexa.tsv\", sep='\\t')\n",
    "data"
   ]
  },
  {
   "cell_type": "markdown",
   "id": "66812d35",
   "metadata": {},
   "source": [
    "### Select only text data "
   ]
  },
  {
   "cell_type": "code",
   "execution_count": 91,
   "id": "dab123fd",
   "metadata": {},
   "outputs": [
    {
     "data": {
      "text/plain": [
       "0                                           Love my Echo!\n",
       "1                                               Loved it!\n",
       "2       Sometimes while playing a game, you can answer...\n",
       "3       I have had a lot of fun with this thing. My 4 ...\n",
       "4                                                   Music\n",
       "                              ...                        \n",
       "3145    Perfect for kids, adults and everyone in betwe...\n",
       "3146    Listening to music, searching locations, check...\n",
       "3147    I do love these things, i have them running my...\n",
       "3148    Only complaint I have is that the sound qualit...\n",
       "3149                                                 Good\n",
       "Name: verified_reviews, Length: 3150, dtype: object"
      ]
     },
     "execution_count": 91,
     "metadata": {},
     "output_type": "execute_result"
    }
   ],
   "source": [
    "text_data=data['verified_reviews']\n",
    "text_data"
   ]
  },
  {
   "cell_type": "markdown",
   "id": "41bf88e0",
   "metadata": {},
   "source": [
    "### Define a function to clean the the text data"
   ]
  },
  {
   "cell_type": "markdown",
   "id": "2183969e",
   "metadata": {},
   "source": [
    "#### 1 Convert the word to lower and remove punctuation"
   ]
  },
  {
   "cell_type": "markdown",
   "id": "4ce07af3",
   "metadata": {},
   "source": [
    "#### 2 Creating tokens"
   ]
  },
  {
   "cell_type": "markdown",
   "id": "b538e6d0",
   "metadata": {},
   "source": [
    "#### 3 Remove stopwords and apply lematization"
   ]
  },
  {
   "cell_type": "code",
   "execution_count": 92,
   "id": "7ef810df",
   "metadata": {},
   "outputs": [],
   "source": [
    "def clean_text(text):\n",
    "    text = \"\".join([word.lower() for word in text if word not in string.punctuation])\n",
    "    tokens = re.split('\\W+', text)\n",
    "    text = [wn.lemmatize(word) for word in tokens if word not in stopwords]\n",
    "    return text\n"
   ]
  },
  {
   "cell_type": "markdown",
   "id": "61b82b3a",
   "metadata": {},
   "source": [
    "### Call the function to clean the data"
   ]
  },
  {
   "cell_type": "code",
   "execution_count": 93,
   "id": "664d17ce",
   "metadata": {},
   "outputs": [],
   "source": [
    "clean_data=clean_text(text_data)"
   ]
  },
  {
   "cell_type": "markdown",
   "id": "4d0f73b9",
   "metadata": {},
   "source": [
    "### Apply vectorization"
   ]
  },
  {
   "cell_type": "code",
   "execution_count": 94,
   "id": "6a75eca1",
   "metadata": {},
   "outputs": [],
   "source": [
    "count_vect = CountVectorizer(analyzer=clean_text)\n",
    "X_counts = count_vect.fit_transform(clean_data)"
   ]
  },
  {
   "cell_type": "code",
   "execution_count": 95,
   "id": "536017e4",
   "metadata": {},
   "outputs": [
    {
     "name": "stdout",
     "output_type": "stream",
     "text": [
      "(39503, 4098)\n",
      "['00', '000', '07', '1', '10', '100', '100x', '11', '1100sf', '12', '129', '12am', '15', '150', '18', '19', '1964', '1990', '1gb', '1rst', '1st', '2', '20', '200', '2000', '2017', '229', '23', '24', '25this', '29', '2nd', '2package', '3', '30', '300', '30pm', '34', '360', '39', '3rd', '3x', '3xs', '4', '40', '45', '48', '4am', '4ghz', '4k', '4th', '5', '50', '54', '5am', '5ghz', '5th', '6', '600', '62', '672', '6th', '7', '70', '75', '79', '8', '80', '81', '83', '85', '88', '888', '8gb', '9', '90', '91', '911', '99', '99great', 'a1', 'a19', 'abay', 'abc', 'abd', 'ability', 'able', 'abode', 'absolutely', 'ac', 'accent', 'acceptable', 'accepting', 'access', 'accessable', 'accessible', 'accessing', 'accessory', 'accident', 'accidentally', 'accompanying', 'accomplish', 'accomplished', 'according', 'accordinglylove', 'account', 'accuracy', 'accurate', 'accurately', 'accustom', 'acknowledge', 'acoustical', 'across', 'act', 'acting', 'action', 'activate', 'activated', 'activates', 'activating', 'activationwe', 'actively', 'activitiesexactly', 'actually', 'ad', 'adapted', 'adapter', 'adapting', 'add', 'added', 'addict', 'addicted', 'adding', 'addition', 'additional', 'additionally', 'addonsthe', 'address', 'addressed', 'adept', 'adequate', 'adjacent', 'adjust', 'adjusting', 'adjustment', 'adjusts', 'admit', 'adopter', 'adorable', 'adult', 'advance', 'advanced', 'advantage', 'advertise', 'advertised', 'advertisedi', 'advertisedits', 'advertisement', 'advertising', 'advice', 'advise', 'adviseawesome', 'advised', 'aesthetic', 'af4', 'affirm', 'affirmation', 'afford', 'affordable', 'afraid', 'afternoon', 'afterwards', 'againhands', 'age', 'agent', 'ago', 'agree', 'agreement', 'ahead', 'ai', 'aide', 'aint', 'air', 'akastill', 'al', 'alabama', 'alarm', 'albeit', 'alcoholeasy', 'alert', 'alex', 'alexa', 'alexabest', 'alexait', 'alexaits', 'alexano', 'alexas', 'alexaso', 'alexaspeaker', 'alexathis', 'alexaworks', 'alexi', 'alexia', 'alexiait', 'alexis', 'alexusthis', 'algo', 'alive', 'alleviate', 'alli', 'allnow', 'allow', 'allowed', 'allowing', 'allows', 'allrecipes', 'almost', 'alone', 'along', 'alongside', 'alot', 'alots', 'aloud', 'already', 'alright', 'also', 'alsoconnecting', 'altering', 'alternative', 'although', 'always', 'amaonmazing', 'amaxing', 'amaze', 'amazed', 'amazedalexa', 'amazin', 'amazing', 'amazingi', 'amazingly', 'amazingnice', 'amazon', 'amazongood', 'amazonia', 'amazonthis', 'ambient', 'american', 'among', 'amount', 'amozon', 'amplifier', 'amused', 'amusing', 'analog', 'android', 'ands', 'angle', 'annoying', 'another', 'answer', 'answered', 'answering', 'ant', 'anti', 'anticipate', 'anticipated', 'anybody', 'anyhow', 'anylist', 'anymore', 'anyone', 'anyoneawesome', 'anypod', 'anything', 'anytime', 'anyway', 'anyways', 'anywhere', 'apartment', 'app', 'apparent', 'apparently', 'appealing', 'appear', 'appears', 'appit', 'apple', 'appliance', 'appliancesexpensive', 'application', 'appointment', 'appreciated', 'apprehensive', 'approaching', 'appropriate', 'approximately', 'apps', 'appseasy', 'appsglad', 'appsi', 'area', 'arent', 'argue', 'argument', 'arises', 'arlo', 'arm', 'around', 'array', 'arrive', 'arrived', 'arriving', 'article', 'artist', 'asap', 'ase', 'ask', 'asked', 'askes', 'aski', 'asking', 'asleep', 'aspect', 'assigned', 'assist', 'assistance', 'assistant', 'assistantworks', 'assume', 'assumed', 'assuming', 'assumption', 'atención', 'atmosphere', 'atrás', 'attach', 'attached', 'attachment', 'attempt', 'attempted', 'attempting', 'attention', 'attractive', 'audible', 'audio', 'audioapple', 'audiobook', 'audiobooks', 'audiophile', 'august', 'aunt', 'auto', 'automatic', 'automatically', 'automation', 'aux', 'auxiliary', 'av', 'avail', 'availability', 'available', 'availabledid', 'avoid', 'awake', 'aware', 'away', 'awesome', 'awesomei', 'awesomeit', 'awesomevery', 'awful', 'awhile', 'awkward', 'awsome', 'b073sqyxtw', 'baby', 'back', 'background', 'backyard', 'bad', 'baffle', 'baffled', 'ball', 'ban', 'band', 'bandwagon', 'bandwidth', 'bang', 'bar', 'bare', 'barely', 'bargain', 'bark', 'barn', 'barret', 'barry', 'base', 'baseball', 'based', 'basement', 'basic', 'basically', 'bass', 'bathroom', 'batman', 'battery', 'bc', 'beam', 'beat', 'beautiful', 'beautifully', 'beauty', 'became', 'becausse', 'become', 'becomes', 'becoming', 'bed', 'bedroom', 'bedroomexcellent', 'bedroomgot', 'bedside', 'bedtime', 'beefy', 'begin', 'beginner', 'beginning', 'begun', 'behaved', 'behind', 'believe', 'believer', 'bell', 'belong', 'benefit', 'beside', 'besides', 'best', 'bestlove', 'bet', 'beta', 'better', 'betterit', 'betterjust', 'betternot', 'betterthis', 'bettter', 'beyond', 'bezel', 'bezos', 'bf', 'bff', 'bible', 'big', 'bigger', 'biggest', 'bill', 'billboard', 'bing', 'birth', 'birthday', 'bit', 'bizarre', 'black', 'blanket', 'blast', 'blasting', 'blessing', 'blind', 'blink', 'blocking', 'blood', 'bloomberg', 'blow', 'blown', 'blue', 'blueprint', 'bluetooth', 'bluetoothit', 'blurring', 'board', 'boat', 'bob', 'body', 'bolt', 'bonkers', 'bonus', 'book', 'booksecho', 'boom', 'boombox', 'booming', 'boost', 'boring', 'born', 'bos', 'bose', 'bosei', 'bot', 'bother', 'bothered', 'bothersome', 'bottom', 'bough', 'bought', 'boughtsound', 'box', 'boyfriend', 'brainer', 'brand', 'brandnew', 'bread', 'breadthis', 'break', 'breakfast', 'breeze', 'bridge', 'brief', 'briefing', 'briefingarrived', 'bright', 'brightness', 'bring', 'bringing', 'british', 'broadway', 'broke', 'broken', 'brought', 'bt', 'buck', 'buddy', 'budget', 'buffer', 'buffering', 'buffet', 'bug', 'bugging', 'build', 'building', 'built', 'bulb', 'buld', 'bulky', 'bummed', 'bunch', 'bundle', 'bundled', 'burn', 'business', 'busy', 'buts', 'button', 'buy', 'buyer', 'buying', 'buythanksi', 'buywas', 'buzzing', 'bye', 'c', 'cable', 'calendar', 'call', 'called', 'calling', 'calm', 'calmer', 'cam', 'cambiar', 'came', 'camelot', 'camera', 'campus', 'canary', 'cancel', 'canceling', 'cancelled', 'cannot', 'cant', 'capabilitiesgreat', 'capabilitiesmy', 'capability', 'capable', 'capacity', 'capasitymy', 'car', 'card', 'cardsrotate', 'care', 'carefully', 'careless', 'carful', 'carolina', 'carrier', 'carry', 'cart', 'cartoon', 'case', 'caseoverall', 'cat', 'catch', 'category', 'cause', 'caused', 'cave', 'cbs', 'cd', 'cease', 'ceiling', 'celebs', 'cell', 'cellphone', 'cent', 'center', 'certain', 'certainly', 'certified', 'chachki', 'chair', 'chalk', 'challenge', 'challenged', 'champ', 'chance', 'change', 'changed', 'changer', 'changing', 'channel', 'characteristic', 'charge', 'chargeable', 'charger', 'charging', 'charlotte', 'charm', 'charmed', 'chart', 'chat', 'chatting', 'cheap', 'cheaper', 'cheapest', 'check', 'checked', 'checking', 'child', 'childhood', 'chocolate', 'choice', 'choose', 'choosing', 'choppy', 'chore', 'chose', 'chosen', 'christmas', 'chromebook', 'chromecast', 'circle', 'citizen', 'city', 'clapper', 'clarity', 'class', 'classic', 'classical', 'classroom', 'clean', 'cleaner', 'cleaning', 'clear', 'clearer', 'clearly', 'click', 'client', 'clipsi', 'clock', 'clockgreat', 'clockhome', 'clocking', 'clocksuch', 'clone', 'close', 'closed', 'closer', 'clothes', 'cloud', 'clue', 'cmcrrypprdttlsol18i', 'cnn', 'co', 'coast', 'code', 'coffee', 'cohesive', 'collection', 'collector', 'college', 'colon', 'color', 'coloralexa', 'com', 'comands', 'combination', 'combine', 'combined', 'come', 'comeblue', 'comeletely', 'comfort', 'comfortable', 'comforting', 'coming', 'command', 'commanded', 'commandsthe', 'comment', 'commercial', 'commodity', 'common', 'communicate', 'communicated', 'communicating', 'communication', 'community', 'commute', 'como', 'compacity', 'compact', 'companion', 'company', 'comparable', 'compare', 'compared', 'compatible', 'competition', 'complacated', 'complain', 'complained', 'complaining', 'complaint', 'complaintslove', 'complaintswe', 'complete', 'completed', 'completely', 'complicated', 'compliment', 'component', 'compound', 'computer', 'con', 'concept', 'concern', 'concerned', 'concerning', 'concernsit', 'concise', 'condition', 'conditioning', 'conectado', 'conferencing', 'confident', 'configure', 'configured', 'conflict', 'confused', 'confuses', 'confusing', 'confusion', 'connect', 'connected', 'connectedthis', 'connecting', 'connection', 'connectivity', 'connects', 'conscious', 'consider', 'considering', 'consistent', 'consistently', 'conspiracy', 'constant', 'constantly', 'constructed', 'consulting', 'consumer', 'contact', 'contacted', 'contains', 'content', 'continous', 'continually', 'continue', 'continues', 'continuous', 'continuously', 'control', 'controlgreat', 'controll', 'controllable', 'controlled', 'controller', 'controlling', 'convenience', 'conveniencenice', 'convenient', 'convenienteste', 'convenienti', 'conversation', 'convert', 'convinced', 'cook', 'cooking', 'cookingalways', 'cool', 'cooler', 'coolest', 'cooleveryone', 'coolgood', 'coollove', 'coolsome', 'coordinator', 'cord', 'cordless', 'cordthank', 'core', 'correct', 'corrected', 'correctly', 'corresponds', 'cortna', 'cost', 'cotton', 'couch', 'couchthe', 'could', 'counter', 'countless', 'country', 'countryit', 'county', 'couple', 'course', 'cousin', 'cover', 'covered', 'cozi', 'cpr', 'cracked', 'crackle', 'crackling', 'crap', 'crappy', 'crash', 'crashed', 'crashing', 'crazy', 'creapy', 'create', 'created', 'credited', 'creepy', 'creepythe', 'crib', 'crisp', 'critically', 'cropping', 'cross', 'crunchyroll', 'csi', 'cualquier', 'cue', 'cumbersome', 'cup', 'current', 'currently', 'cursed', 'curve', 'custom', 'customer', 'customizable', 'customization', 'customize', 'cut', 'cute', 'cutie', 'cutting', 'cuttingworks', 'cycle', 'cycled', 'cylinder', 'cylindercal', 'dad', 'daily', 'damage', 'dance', 'dancing', 'dare', 'dark', 'darn', 'dash', 'data', 'date', 'dated', 'daughter', 'day', 'dayno', 'daythis', 'de', 'deactivate', 'dead', 'deaf', 'deal', 'debating', 'dec', 'decent', 'decide', 'decided', 'decides', 'decision', 'deck', 'decor', 'decorated', 'decrease', 'dedicated', 'deep', 'deeper', 'default', 'defeat', 'defective', 'defectiveexactly', 'defence', 'defently', 'definately', 'define', 'definitely', 'definition', 'definitively', 'defuser', 'degree', 'del', 'delay', 'delete', 'deliver', 'delivered', 'delivers', 'delivery', 'demand', 'dementia', 'den', 'denon', 'dense', 'dented', 'department', 'dependable', 'dependence', 'depending', 'deployed', 'depreciates', 'depth', 'described', 'description', 'design', 'designed', 'designer', 'designso', 'desired', 'desk', 'desktop', 'despite', 'detail', 'detailed', 'detect', 'determined', 'developed', 'developer', 'development', 'device', 'devicealread', 'devicecan', 'devicegreat', 'devicei', 'deviceoverall', 'devicesit', 'devicesuse', 'devicesworks', 'deviceworks', 'devise', 'deviseslove', 'dhiw', 'diagnostics', 'dial', 'dictionary', 'didnt', 'died', 'differ', 'difference', 'different', 'differentiate', 'difficult', 'difficulty', 'dig', 'digital', 'digitol', 'dim', 'dimat', 'dimension', 'dimmer', 'dimming', 'dims', 'dining', 'dinner', 'dinosaur', 'direct', 'direction', 'directly', 'directtv', 'directv', 'disability', 'disable', 'disabled', 'disagree', 'disappoint', 'disappointed', 'disappointedthe', 'disappointing', 'disappointment', 'disappointnice', 'disarm', 'disaster', 'disconcerting', 'disconnect', 'disconnected', 'disconnecting', 'disconnection', 'discount', 'discourage', 'discover', 'discovered', 'discoveredthat', 'discovering', 'discovery', 'dish', 'dislike', 'dismiss', 'dismissed', 'display', 'displayed', 'displaying', 'disposable', 'dissatisfactionworks', 'distance', 'distorted', 'distracting', 'distraction', 'disturbing', 'ditch', 'ditched', 'diversity', 'divertidogreat', 'dj', 'doawesome', 'docking', 'doctor', 'documentation', 'dodging', 'dodo', 'doesgreat', 'doesnt', 'dog', 'dollar', 'domain', 'done', 'dont', 'door', 'doorbell', 'dorm', 'dot', 'dotclear', 'dotgreat', 'dothis', 'dotthis', 'dowe', 'downfall', 'download', 'downloaded', 'downloading', 'downright', 'downside', 'downstairs', 'dp', 'drag', 'draw', 'drawback', 'drawing', 'dressed', 'drive', 'driven', 'driver', 'driving', 'drop', 'dropped', 'dropping', 'dryer', 'due', 'dumb', 'dumber', 'dunce', 'dunno', 'dust', 'duty', 'dy', 'dying', 'dylan', 'e', 'ear', 'early', 'earn', 'ease', 'easier', 'easieri', 'easily', 'east', 'easy', 'easygreat', 'easyi', 'eavesdropping', 'echo', 'echobought', 'echodoes', 'echogreat', 'echohaving', 'echoi', 'echoit', 'echolove', 'echonice', 'echoplus', 'echosexcellent', 'echothis', 'echoworks', 'eco', 'ecobee3', 'ecoo', 'ecosystem', 'ed', 'edge', 'edit', 'educated', 'educational', 'eeaanh', 'effect', 'effected', 'effective', 'efficiency', 'efficient', 'effort', 'effortless', 'eg', 'eh', 'either', 'el', 'elderly', 'electeonically', 'electrician', 'electricity', 'electronic', 'electronically', 'electronics', 'elegant', 'element', 'eliminate', 'else', 'elsewhere', 'em', 'email', 'embarrassed', 'emergency', 'emoji', 'employee', 'en', 'enable', 'enabled', 'enables', 'encyclopedia', 'end', 'ended', 'endless', 'engage', 'engagement', 'engaging', 'engine', 'engineer', 'english', 'enhanced', 'enjoy', 'enjoyable', 'enjoyed', 'enjoying', 'enjoyment', 'enjoys', 'enough', 'enoughthe', 'enrolment', 'enter', 'entering', 'enters', 'entertained', 'entertaining', 'entertainment', 'entertainmentbeing', 'entertainmentlove', 'entertainmentvery', 'entire', 'entirely', 'entry', 'eq', 'equal', 'equalized', 'equalizer', 'equipment', 'equipo', 'error', 'escencia', 'esp', 'espanollove', 'español', 'españoleasy', 'especially', 'essential', 'essentially', 'esta', 'estar', 'estudio', 'estés', 'etc', 'etcwe', 'etekcity', 'ethernet', 'evaluate', 'even', 'eveninggreat', 'event', 'eventually', 'ever', 'every', 'everybody', 'everyday', 'everyone', 'everything', 'everythingamazing', 'everythingeasy', 'everythingi', 'everythinglove', 'everythingmy', 'everythingthis', 'everythingvery', 'everytime', 'everywe', 'everywhere', 'eveyday', 'evolve', 'evrything', 'ex', 'exact', 'exactly', 'example', 'exasperation', 'exceeded', 'exceeds', 'excelente', 'excellent', 'excellenti', 'excellentitem', 'excellently', 'except', 'exception', 'exceptionally', 'excessive', 'exchange', 'exchanging', 'excited', 'excitement', 'excuse', 'exho', 'existence', 'existentsuper', 'existing', 'expanded', 'expanding', 'expect', 'expectation', 'expectationsnew', 'expected', 'expecteda', 'expectedgreat', 'expectedi', 'expectedit', 'expectedso', 'expecting', 'expensive', 'experience', 'experienced', 'experienceeasy', 'expert', 'expired', 'expires', 'explanation', 'explicit', 'explore', 'explored', 'exploring', 'extend', 'extended', 'extender', 'extends', 'extension', 'extent', 'external', 'extra', 'extremely', 'extrimelly', 'eye', 'f', 'fabric', 'fabulous', 'face', 'facebook', 'facetime', 'fact', 'factor', 'factory', 'failed', 'faili', 'failing', 'fails', 'fair', 'fairly', 'fairness', 'fall', 'falling', 'false', 'familiar', 'family', 'familyeasy', 'familyecho', 'fan', 'fanaticecho', 'fantastic', 'far', 'faralexa', 'farsame', 'farther', 'fascinating', 'fashioned', 'fast', 'faster', 'fat', 'father', 'fault', 'faulty', 'favorite', 'featues', 'feature', 'featured', 'featuresvery', 'featurethe', 'featurewhat', 'fee', 'feed', 'feedback', 'feee', 'feel', 'feeling', 'feesitem', 'fell', 'felt', 'fencing', 'fi', 'fiance', 'fidelity', 'figure', 'figured', 'figuring', 'fill', 'filled', 'filling', 'final', 'finally', 'find', 'finding', 'fine', 'finegreat', 'fingertip', 'finicky', 'finish', 'fios', 'fire', 'firestick', 'firmare', 'firmware', 'first', 'fit', 'five', 'fivelove', 'fix', 'fixed', 'fixing', 'fixture', 'flash', 'flat', 'flaw', 'flawless', 'flawlessly', 'flawlesslymy', 'fledged', 'flexibility', 'flexible', 'flickering', 'floating', 'floor', 'floored', 'fm', 'folk', 'follow', 'followed', 'font', 'foot', 'football', 'footprint', 'force', 'forecast', 'forever', 'forget', 'forgot', 'forgotten', 'fori', 'forjust', 'form', 'forth', 'fortunately', 'forum', 'forward', 'found', 'four', 'fourth', 'free', 'freeze', 'frequently', 'fri', 'friday', 'friend', 'friendcoop', 'friendfantastic', 'friendly', 'friendlyreally', 'friendslove', 'fromit', 'fromvery', 'front', 'frustrated', 'frustrating', 'frustration', 'full', 'fuller', 'fully', 'fumble', 'fun', 'funciona', 'funcionamiento', 'funciones', 'function', 'functionality', 'functionsmehbest', 'funfun', 'funi', 'funny', 'furthermore', 'fussing', 'fussy', 'future', 'fw', 'gadget', 'gain', 'galaxy', 'game', 'gameshow', 'gamesworks', 'gaming', 'gap', 'garage', 'garbage', 'gateway', 'gather', 'gathering', 'gave', 'gazebo', 'gb', 'ge', 'geared', 'geek', 'gen', 'gen2', 'gender', 'general', 'generally', 'generation', 'genialwas', 'genre', 'geo', 'get', 'getting', 'gf', 'ghost', 'gift', 'giftthis', 'girl', 'girlfriend', 'give', 'given', 'giving', 'gizmo', 'glad', 'glaring', 'glass', 'glitch', 'glitching', 'glorified', 'glow', 'go', 'god', 'godnot', 'godsend', 'going', 'golden', 'gone', 'goo', 'good', 'goodabsolutely', 'goodawesome', 'goodexcellent', 'goodgood', 'goodi', 'goodlooks', 'goodlove', 'goodmorning', 'goodness', 'goodnice', 'goodthe', 'goodtried', 'goodworks', 'goody', 'google', 'googled', 'got', 'gotten', 'government', 'grab', 'grace', 'grand', 'grandaughter', 'grandchild', 'granddaughter', 'grandfather', 'grandkids', 'grandmother', 'grandparent', 'grandson', 'granite', 'granted', 'graphic', 'gratamente', 'greade', 'great', 'greatamazing', 'greatbought', 'greatease', 'greateasy', 'greater', 'greatest', 'greatestlove', 'greatexactly', 'greatexcellent', 'greatextremely', 'greatgot', 'greatgreat', 'greati', 'greatit', 'greatlove', 'greatly', 'greatnope', 'greatpersonalwe', 'greatthe', 'greatthis', 'greatusing', 'greatvery', 'greatwe', 'greatworks', 'green', 'greeting', 'grip', 'gripe', 'grocery', 'groggy', 'ground', 'group', 'growing', 'grownup', 'grows', 'guarantee', 'guaranteeing', 'guard', 'guess', 'guest', 'guide', 'guilty', 'guy', 'habit', 'habla', 'hadi', 'haha', 'hahaawesome', 'hahahaha', 'hahalove', 'hahapurchased', 'hair', 'hal', 'half', 'hallway', 'hand', 'handle', 'handled', 'handy', 'hang', 'happen', 'happened', 'happening', 'happens', 'happier', 'happy', 'happylove', 'hard', 'hardcore', 'harder', 'hardly', 'harmony', 'harvard', 'hasi', 'hassel', 'hassle', 'hate', 'hated', 'hauler', 'haveholy', 'havent', 'haywirebought', 'hbo', 'hcfe', 'hd', 'hd8wish', 'hdm1', 'hdmi', 'head', 'headline', 'headphone', 'healing', 'hear', 'heard', 'hearing', 'hears', 'heart', 'heaven', 'heavy', 'heck', 'hectic', 'held', 'helful', 'hell', 'help', 'helped', 'helper', 'helpful', 'helpfulgood', 'helpfulsound', 'helping', 'hence', 'hesitant', 'hesitate', 'hesitated', 'hey', 'hi', 'hiccup', 'hide', 'high', 'higher', 'highest', 'highly', 'hint', 'hire', 'hired', 'hiring', 'history', 'hit', 'hmm', 'hmmm', 'hmmmm', 'hmmused', 'hold', 'holder', 'holding', 'hole', 'holiday', 'home', 'homebought', 'homeeasy', 'homegreat', 'homei', 'homelove', 'homescreen', 'homethe', 'homework', 'honest', 'honestly', 'hong', 'hook', 'hooked', 'hope', 'hoped', 'hopefully', 'hoping', 'hora', 'horrible', 'horse', 'hospital', 'hosting', 'hot', 'hotel', 'hour', 'house', 'household', 'housei', 'housework', 'however', 'hr', 'http', 'hub', 'hubbed', 'hubby', 'hubi', 'hubthis', 'hue', 'huele', 'huge', 'hulu', 'hului', 'human', 'humourwe', 'hundred', 'husband', 'hut', 'hvac', 'hype', 'id', 'idea', 'ideal', 'ifs', 'ightawesome', 'ignored', 'ignoring', 'iheart', 'iheartradio', 'ihome', 'ii', 'illustrated', 'im', 'image', 'imagination', 'imagine', 'imagined', 'imhave', 'immediately', 'impaired', 'impede', 'imperfection', 'implementing', 'important', 'importantly', 'impressed', 'impressedi', 'impressive', 'improve', 'improved', 'improvement', 'improving', 'impulse', 'imrproved', 'imusic', 'inability', 'inactivity', 'include', 'included', 'includes', 'including', 'inclusive', 'income', 'inconvenience', 'inconvenient', 'incorporated', 'increase', 'increasing', 'incredible', 'incredibly', 'india', 'indicated', 'indicator', 'indispensable', 'individual', 'individually', 'indoor', 'indundated', 'industry', 'inexpensive', 'inexpensiveworks', 'inexperience', 'infact', 'inferior', 'info', 'información', 'information', 'informationgreat', 'informationit', 'informationlove', 'informative', 'informativethis', 'informed', 'infotainment', 'initial', 'initially', 'initiate', 'inline', 'innovative', 'input', 'insanely', 'insanity', 'insert', 'inside', 'insist', 'inspired', 'install', 'installation', 'installed', 'installi', 'installing', 'installingun', 'installs', 'instant', 'instantaneous', 'instantly', 'instead', 'instruction', 'instructionsbig', 'integrate', 'integrated', 'integrates', 'integrating', 'integration', 'intelagence', 'inteligente', 'intelligent', 'intend', 'intended', 'intention', 'interact', 'interacting', 'interaction', 'interactivebeyond', 'intercom', 'interest', 'interested', 'interesting', 'interface', 'interfacing', 'interference', 'interferes', 'intermittent', 'intermittently', 'internal', 'international', 'internet', 'interpret', 'interrogated', 'interrupt', 'interruption', 'intimidating', 'introduce', 'introducing', 'introduction', 'intrusive', 'intuitive', 'invasion', 'invasive', 'invention', 'invest', 'invested', 'investing', 'investment', 'inviting', 'involved', 'involvedi', 'involves', 'iot', 'iove', 'ipad', 'ipadabsolutely', 'ipads', 'ipdates', 'iphone', 'irritated', 'irritating', 'ise', 'ish', 'island', 'isnt', 'isolated', 'issue', 'issuesgreat', 'issuesi', 'issuesthe', 'isue', 'ita', 'italian', 'italy', 'itamazing', 'itawesome', 'itbest', 'itbought', 'itbye', 'itdislike', 'iteasy', 'item', 'itfun', 'itgood', 'itgot', 'itgreat', 'iti', 'itit', 'itjust', 'itlove', 'itno', 'itoverall', 'itpart', 'itperfect', 'itpowerful', 'itseems', 'itshe', 'itthe', 'itthis', 'itunes', 'itunit', 'itwe', 'itwell', 'itworked', 'itworks', 'ityou', 'iyi', 'jack', 'jacuzziworks', 'jam', 'jamming', 'jaw', 'jazz', 'jeapordy', 'jeff', 'jeopardy', 'jetsonsthe', 'jimmy', 'job', 'johnny', 'join', 'joke', 'joked', 'journey', 'joy', 'jump', 'jumped', 'jumping', 'june', 'junk', 'karenvery', 'kasa', 'keen', 'keep', 'keeper', 'keeping', 'kept', 'key', 'keyboard', 'kick', 'kicking', 'kid', 'kidswe', 'killer', 'kind', 'kinda', 'kindle', 'king', 'kitchen', 'knee', 'knew', 'knob', 'knock', 'knocked', 'know', 'knowing', 'knowledgable', 'knowledge', 'knowledgeable', 'known', 'knownthis', 'kodi', 'kong', 'korea', 'kwikset', 'l', 'la', 'labeled', 'lack', 'lacking', 'lady', 'lag', 'lagging', 'lame', 'lamp', 'land', 'language', 'lapsed', 'laptop', 'large', 'larger', 'last', 'lastly', 'late', 'lately', 'later', 'lateri', 'laudedgood', 'laugh', 'laughter', 'laundry', 'law', 'layer', 'laying', 'laziness', 'lazy', 'lcd', 'le', 'leaf', 'leaning', 'learn', 'learned', 'learnimg', 'learning', 'learningam', 'learns', 'leary', 'least', 'leave', 'leaving', 'led', 'left', 'leg', 'legally', 'leisure', 'length', 'lesson', 'let', 'level', 'lg', 'library', 'life', 'lifehave', 'lifethis', 'lifetime', 'lifht', 'light', 'lightbulb', 'lightening', 'lighting', 'lightit', 'lightning', 'like', 'liked', 'likei', 'likely', 'likevery', 'liking', 'lil', 'lilttle', 'limitation', 'limited', 'line', 'link', 'linked', 'linking', 'list', 'listen', 'listened', 'listening', 'listenit', 'listens', 'listthe', 'lit', 'literally', 'literate', 'little', 'live', 'lived', 'living', 'livingroom', 'llama', 'llegó', 'lm', 'lo', 'load', 'loaded', 'local', 'locate', 'located', 'location', 'lock', 'locked', 'logitech', 'logo', 'logra', 'lol', 'lolalarm', 'lolgift', 'lolol', 'lonely', 'long', 'longer', 'longevity', 'loo', 'look', 'looked', 'looking', 'looooooove', 'loose', 'loosing', 'lose', 'loses', 'losing', 'loss', 'lost', 'lot', 'loud', 'louder', 'louderi', 'loudthis', 'louis', 'lov', 'love', 'loved', 'lovee', 'lovelove', 'lover', 'loving', 'low', 'lowalarm', 'lower', 'lowi', 'lowso', 'luck', 'luckily', 'lucky', 'lullaby', 'lurking', 'luv', 'lve', 'lyric', 'lyrical', 'mac', 'machine', 'maddening', 'made', 'madlibs', 'magically', 'mailed', 'main', 'mainly', 'mainstream', 'maintain', 'maintaining', 'majel', 'majes', 'major', 'make', 'making', 'male', 'malone', 'mama', 'man', 'manage', 'management', 'mandatory', 'maneuver', 'manner', 'manual', 'manually', 'manufacturer', 'many', 'marginal', 'mark', 'marked', 'market', 'marketing', 'marvelous', 'massive', 'match', 'matched', 'material', 'matter', 'maximize', 'may', 'maybe', 'mb', 'mean', 'meaningful', 'meant', 'medical', 'medication', 'mediocre', 'meditation', 'medium', 'meh', 'member', 'membership', 'memory', 'mention', 'mentioned', 'menu', 'mere', 'message', 'messaging', 'messed', 'met', 'metro', 'mexico', 'mi', 'miami', 'mic', 'microphone', 'mics', 'mid', 'middle', 'mids', 'might', 'mile', 'million', 'mimic', 'min', 'mind', 'mindperfectlove', 'mindset', 'mine', 'mini', 'minimal', 'minimum', 'minor', 'minorly', 'mint', 'minus', 'minute', 'mirroring', 'misled', 'misplace', 'miss', 'missed', 'missing', 'mistake', 'misunderstands', 'mixed', 'moana', 'mobile', 'mobility', 'mode', 'model', 'modern', 'mom', 'moment', 'momlove', 'mon', 'money', 'moneyfor', 'monitor', 'month', 'monthly', 'mood', 'morei', 'moreit', 'morelove', 'moreover', 'morethis', 'morevery', 'morning', 'mostly', 'mother', 'motherit', 'motivation', 'motown', 'mount', 'mounted', 'move', 'moved', 'movie', 'moviesdoubtful', 'movieslove', 'moving', 'mu', 'much', 'mucheasy', 'muchi', 'muchits', 'muchno', 'muffled', 'multi', 'multiple', 'music', 'musicfun', 'musici', 'musicseems', 'musicsetting', 'musicspeakers', 'musicstarting', 'must', 'mute', 'muy', 'mybedroom', 'myselfi', 'múltiples', 'n', 'na', 'name', 'named', 'nana', 'nanny', 'native', 'natural', 'nature', 'navigate', 'navigating', 'navigation', 'nawit', 'nbc', 'nbsp', 'nc', 'nd', 'ne', 'near', 'nearly', 'neat', 'necessity', 'need', 'needed', 'neededthis', 'needing', 'negative', 'neighbor', 'neither', 'nephew', 'nervana', 'nervous', 'nest', 'net', 'netflix', 'network', 'networki', 'never', 'new', 'newa', 'newamazon', 'newer', 'newest', 'newgranddaughter', 'newhappy', 'newit', 'newlove', 'newmy', 'news', 'newsflash', 'newsgreat', 'newsworks', 'newworked', 'nexia', 'next', 'nfl', 'ni', 'nice', 'nicei', 'nicelove', 'nicely', 'nicemore', 'nicemusic', 'nicer', 'niece', 'nigh', 'night', 'nighti', 'nightmare', 'nightsit', 'nightstand', 'nil', 'nit', 'nite', 'nj', 'nobody', 'nois', 'noise', 'non', 'none', 'nonei', 'nonsense', 'nope', 'norm', 'normal', 'north', 'note', 'nothing', 'nothingworks', 'notice', 'noticeable', 'noticed', 'notification', 'notificationsnice', 'notifies', 'novelty', 'nowhere', 'npr', 'nrw', 'nsa', 'nudged', 'numb', 'number', 'numerous', 'nurse', 'nut', 'ny', 'obsessed', 'obtrusive', 'obvious', 'occasion', 'occasional', 'occasionally', 'ocean', 'odd', 'odds', 'offer', 'offered', 'offeredgreat', 'offergreat', 'office', 'officesmall', 'officeweak', 'officially', 'offing', 'offlove', 'offthe', 'often', 'oftenit', 'oh', 'ok', 'okay', 'oki', 'oklove', 'old', 'older', 'oldest', 'olor', 'omg', 'onceproblem', 'one', 'onegreat', 'onehave', 'onesthis', 'onestill', 'onetime', 'online', 'onme', 'onto', 'ontrac', 'oops', 'open', 'opened', 'opening', 'opera', 'operate', 'operation', 'operator', 'opinion', 'opportunity', 'opt', 'optical', 'optimum', 'option', 'optional', 'optionpurchased', 'optionsgreat', 'orange', 'orchestra', 'order', 'ordered', 'ordering', 'organization', 'organized', 'orientation', 'oriented', 'original', 'originale', 'originali', 'originally', 'others', 'otherwise', 'outdoor', 'outdoors', 'outgreat', 'outjust', 'outlet', 'output', 'outrageous', 'outsecond', 'outside', 'outsmart', 'outstanding', 'oven', 'overa', 'overall', 'overcoming', 'overheating', 'overpriced', 'override', 'overtime', 'overviewlove', 'overwhelming', 'owe', 'owlhead', 'owned', 'owner', 'ownership', 'owning', 'pa', 'package', 'packaged', 'packaging', 'packing', 'page', 'paid', 'pain', 'pair', 'paired', 'pairing', 'pamphlet', 'pandora', 'pant', 'paper', 'par', 'paranoid', 'pare', 'parent', 'park', 'paroductgood', 'part', 'participating', 'particular', 'particularly', 'partner', 'party', 'partylooked', 'password', 'passwordjust', 'past', 'patch', 'patience', 'patient', 'patio', 'pattern', 'pause', 'pay', 'payed', 'paying', 'pc', 'películas', 'pen', 'pencil', 'penny', 'people', 'pep', 'per', 'perdió', 'perfect', 'perfectalexa', 'perfectgood', 'perfecthad', 'perfecti', 'perfectit', 'perfectly', 'perfectlygreat', 'perfectlyperfecti', 'perfecto', 'perfectvery', 'perform', 'performance', 'performed', 'performi', 'performing', 'performs', 'perhaps', 'period', 'perk', 'permanently', 'persist', 'person', 'personal', 'personality', 'personalization', 'personalized', 'personally', 'persuasion', 'pet', 'phase', 'phenomenal', 'phenomenali', 'philip', 'philipshue', 'phillip', 'phillips', 'philly', 'phone', 'phonetically', 'photo', 'photograph', 'phrase', 'pia', 'pic', 'pick', 'picked', 'picking', 'picky', 'picture', 'picturei', 'picturethis', 'piece', 'pin', 'pivoting', 'pixelated', 'pizza', 'place', 'placed', 'placement', 'placing', 'plain', 'plan', 'plane', 'planning', 'platform', 'play', 'played', 'player', 'playhave', 'playing', 'playlist', 'playlistawesome', 'pleasantly', 'please', 'pleased', 'pleasedprimarily', 'pleasedsimple', 'pleasure', 'plenty', 'plug', 'plugged', 'plugins', 'plus', 'plusi', 'plusomg', 'pluto', 'pod', 'podcast', 'podcasts', 'point', 'pointed', 'pointless', 'politics', 'pool', 'poop', 'poor', 'pop', 'porch', 'port', 'portabilityloved', 'portable', 'portion', 'posed', 'position', 'positive', 'possibility', 'possible', 'possibleamazingly', 'possibly', 'post', 'poster', 'potential', 'pound', 'power', 'powercord', 'powerful', 'practical', 'practically', 'practicalthan', 'pray', 'pre', 'preciously', 'precise', 'prefer', 'preference', 'preferred', 'premium', 'prepare', 'preparing', 'present', 'preset', 'press', 'presumably', 'prettiershe', 'pretty', 'prevent', 'prevents', 'preview', 'previous', 'previously', 'price', 'priced', 'pricelove', 'pricey', 'pricing', 'primarily', 'primary', 'prime', 'primeday', 'primeit', 'print', 'prior', 'privacy', 'prize', 'pro', 'probably', 'problem', 'problemexcelente', 'problemshave', 'problemsworks', 'procedure', 'process', 'produc', 'product', 'producteasy', 'producti', 'productin', 'productit', 'productlike', 'productlove', 'producto', 'productreally', 'productsand', 'productslove', 'productso', 'productstook', 'productthis', 'productvery', 'productwe', 'productworks', 'profile', 'program', 'programgreati', 'programing', 'programmed', 'programming', 'project', 'projection', 'promised', 'promisedworks', 'promoting', 'promotion', 'promp', 'prompt', 'prompti', 'prop', 'proper', 'properly', 'properlyso', 'protected', 'protection', 'protocol', 'prove', 'proved', 'provee', 'provide', 'provided', 'provider', 'provideres', 'provides', 'providing', 'psychological', 'pueden', 'pull', 'pulling', 'pulsate', 'pulsed', 'punch', 'puny', 'pup', 'pur', 'purchase', 'purchased', 'purchasedi', 'purchaseeasy', 'purchaseim', 'purchaser', 'purchasing', 'pure', 'purely', 'purpose', 'push', 'pushed', 'put', 'putting', 'puzzled', 'quality', 'qualityit', 'qualitysad', 'qualitythe', 'qualityworks', 'qualtythis', 'que', 'quedó', 'query', 'question', 'questionable', 'questionsgreat', 'questionskids', 'questionsthis', 'quick', 'quickabsolutely', 'quicker', 'quickly', 'quiet', 'quit', 'quite', 'quiz', 'quot', 'quote', 'qvc', 'r', 'radio', 'rain', 'rainbow', 'raised', 'rambled', 'ran', 'random', 'randomly', 'range', 'ranger', 'rapidez', 'rare', 'rarely', 'rarity', 'rate', 'rather', 'rating', 'rattle', 'rattling', 'rcieved', 'reach', 'reached', 'reaching', 'reactive', 'read', 'reader', 'reading', 'ready', 'real', 'realizando', 'realize', 'realized', 'realizing', 'really', 'reason', 'reasonable', 'reauthorize', 'reboot', 'rebooted', 'rebooting', 'reboots', 'reccomend', 'receivded', 'receive', 'received', 'receiver', 'receiving', 'recent', 'recently', 'reception', 'rechargeable', 'recharged', 'recipe', 'recipesalexa', 'recipeseasy', 'recipient', 'recognition', 'recognize', 'recognizes', 'recomendable', 'recommend', 'recommended', 'recommendgreat', 'recommendi', 'recommending', 'recommendit', 'reconditioned', 'reconfigure', 'reconnect', 'reconnected', 'reconnecting', 'record', 'recorded', 'recording', 'rectangular', 'recurring', 'red', 'reduced', 'redundant', 'ref', 'refer', 'reference', 'referred', 'refers', 'refined', 'refund', 'refundpoor', 'refurb', 'refurbish', 'refurbished', 'refurbishedthought', 'refurbishinglove', 'refurbs', 'regard', 'regardless', 'regional', 'register', 'registered', 'regret', 'regular', 'regularly', 'reinstall', 'related', 'relatively', 'relaxing', 'relay', 'release', 'released', 'reliable', 'relief', 'rely', 'remaining', 'remains', 'remedial', 'remember', 'remembering', 'remind', 'reminded', 'reminder', 'remindersi', 'reminding', 'reminds', 'remorse', 'remote', 'remotei', 'remoteworks', 'rename', 'rent', 'renting', 'reoccurring', 'reorder', 'rep', 'repair', 'repeat', 'repeated', 'repeating', 'repertoire', 'replace', 'replaced', 'replacement', 'replaces', 'replacing', 'replied', 'replying', 'report', 'reported', 'reportsalarm', 'reputation', 'request', 'requesting', 'require', 'required', 'requires', 'research', 'researched', 'researching', 'resembling', 'resemptionworks', 'reset', 'resetting', 'resist', 'resistant', 'resolution', 'resolutionit', 'resolve', 'resolved', 'respond', 'responding', 'responds', 'response', 'responsive', 'responsiveness', 'respuesta', 'rest', 'restart', 'restriction', 'restrictive', 'result', 'resume', 'retired', 'return', 'returned', 'returnef', 'returning', 'review', 'reviewi', 'reviewing', 'revise', 'reward', 'rid', 'ride', 'ridiculous', 'ridiculously', 'right', 'ring', 'river', 'road', 'rock', 'rocksgot', 'roku', 'roll', 'room', 'roomabsolutely', 'roomba', 'roomfunthis', 'roomstill', 'rotate', 'rotates', 'rotation', 'rough', 'round', 'route', 'router', 'routine', 'routinely', 'routinethe', 'row', 'rub', 'rubber', 'run', 'running', 's8', 's9', 'sad', 'sadly', 'safe', 'said', 'saiddoesn', 'sale', 'salsa', 'samsung', 'sang', 'sanity', 'satellitei', 'satisfied', 'satisfiedi', 'satisified', 'save', 'saved', 'saving', 'savvy', 'savy', 'saw', 'say', 'saying', 'saysaving', 'saysi', 'sayupgraded', 'scared', 'scene', 'scent', 'schedule', 'scheduled', 'scheduling', 'school', 'science', 'scooped', 'score', 'scottish', 'scoured', 'scratch', 'scratched', 'screamig', 'screaming', 'screen', 'screenless', 'screenselect', 'screw', 'script', 'scroll', 'scrolling', 'se', 'sealed', 'seam', 'seamless', 'seamlessly', 'search', 'searching', 'season', 'second', 'secret', 'secretary', 'section', 'security', 'see', 'seeing', 'seeit', 'seem', 'seemed', 'seems', 'seen', 'seldom', 'select', 'selection', 'self', 'selfies', 'sell', 'selling', 'semana', 'semi', 'send', 'sending', 'sends', 'senior', 'sense', 'sensitive', 'sensitivity', 'sent', 'sentence', 'separate', 'separately', 'seprately', 'series', 'serious', 'seriously', 'serius', 'serve', 'served', 'service', 'set', 'setting', 'settingshome', 'settingsi', 'settins', 'settle', 'setup', 'setupi', 'setuplove', 'sever', 'several', 'sewing', 'sh', 'shaking', 'shape', 'shapei', 'sharing', 'sharp', 'shell', 'shelled', 'shifting', 'shine', 'shining', 'ship', 'shipment', 'shipped', 'shipping', 'shippingi', 'shocked', 'shooting', 'shop', 'shopping', 'short', 'shortcoming', 'shorted', 'shorter', 'shortly', 'shout', 'show', 'shower', 'showering', 'showing', 'showlove', 'showman', 'shown', 'showsgreat', 'showsvery', 'showtime', 'showworks', 'shuffle', 'shut', 'shuts', 'shutting', 'sibling', 'side', 'sigh', 'sight', 'sign', 'significant', 'silly', 'silver', 'similar', 'simple', 'simpler', 'simpleri', 'simplicity', 'simplified', 'simplify', 'simply', 'simultaneously', 'sin', 'since', 'sincerely', 'sing', 'singing', 'single', 'singley', 'sink', 'sinqued', 'siri', 'sirius', 'sirrius', 'sister', 'sit', 'site', 'sits', 'sitting', 'situation', 'six', 'size', 'sized', 'skeptical', 'skill', 'skillsstill', 'skip', 'skype', 'sleek', 'sleep', 'sleeper', 'sleeping', 'sleepy', 'sliced', 'slide', 'slideshow', 'slight', 'slightly', 'sling', 'slow', 'slowly', 'sm', 'small', 'smaller', 'smart', 'smartbon', 'smarter', 'smarteri', 'smarthomei', 'smarti', 'smartphone', 'smartthing', 'smartthings', 'smell', 'smith', 'smooth', 'smoothly', 'snap', 'snarl', 'sneaky', 'snell', 'snooze', 'snoozed', 'soaked', 'soaking', 'soccer', 'social', 'socket', 'sofa', 'soft', 'softly', 'software', 'soi', 'sold', 'solely', 'solid', 'solo', 'solución', 'solution', 'solved', 'solvedvery', 'solves', 'somebody', 'somehow', 'someone', 'something', 'sometime', 'sometimes', 'somewhat', 'son', 'song', 'songsbest', 'sonos', 'sony', 'soon', 'sooner', 'soonermakes', 'soongreat', 'sooo', 'sooooo', 'sooooooo', 'sopt', 'sore', 'sorely', 'sorprendió', 'sorry', 'sort', 'sound', 'soundbar', 'soundecho', 'sounded', 'soundexcellent', 'soundgreatwe', 'soundi', 'sounding', 'soundlink', 'soundthis', 'soundtouch', 'soundwe', 'soundwith', 'source', 'southern', 'spa', 'space', 'spacei', 'spacing', 'spam', 'span', 'spanish', 'spanking', 'spark', 'speak', 'speaker', 'speakeralexa', 'speakerneat', 'speakersi', 'speakerwe', 'speaking', 'speaks', 'spec', 'special', 'specially', 'specific', 'specifically', 'specifily', 'specify', 'specifying', 'spectacular', 'speech', 'speed', 'speedy', 'spell', 'spelling', 'spend', 'spending', 'spent', 'spiel', 'spilled', 'spin', 'split', 'spoiled', 'spoke', 'spoken', 'sport', 'spot', 'spoteasy', 'spoti', 'spotify', 'spotlight', 'spotloving', 'spotswaste', 'spouse', 'sprinkler', 'sprint', 'spur', 'spying', 'square', 'squirm', 'sry', 'ssdi', 'st', 'staff', 'stage', 'staging', 'stair', 'stand', 'standalone', 'standard', 'standi', 'standing', 'star', 'stark', 'start', 'started', 'starting', 'stat', 'state', 'statement', 'station', 'stationary', 'stationed', 'stationslove', 'stay', 'stayed', 'staying', 'steaming', 'steep', 'stellar', 'step', 'stereo', 'stick', 'sticki', 'sticklove', 'sticksi', 'sticksuperb', 'still', 'stimulus', 'stink', 'stoled', 'stop', 'stopped', 'storage', 'store', 'storiesit', 'storm', 'story', 'stove', 'straight', 'straightforward', 'strange', 'stream', 'streaming', 'streamline', 'strictly', 'string', 'strip', 'strong', 'strongly', 'structure', 'struggle', 'stubborn', 'stuck', 'student', 'stuff', 'stump', 'stupid', 'sturdy', 'style', 'stylish', 'su', 'sub', 'subject', 'subpar', 'subscriber', 'subscribing', 'subscription', 'subscriptiondoes', 'subscriptionsounds', 'subsequently', 'substitute', 'success', 'successful', 'successfully', 'successor', 'suck', 'suffer', 'sufficient', 'suffolk', 'suggest', 'suggested', 'suggesting', 'suggestion', 'suggests', 'suitable', 'summoning', 'sunroom', 'supberb', 'super', 'superb', 'superior', 'supplied', 'supplying', 'support', 'supported', 'supporting', 'suppose', 'supposed', 'sure', 'surely', 'surface', 'surprise', 'surprised', 'surprising', 'surprisingly', 'surround', 'survived', 'sweet', 'swell', 'swipe', 'swiping', 'switch', 'switched', 'switching', 'sync', 'synced', 'synching', 'syncing', 'system', 'systemthis', 'table', 'tablet', 'tabletloved', 'tad', 'tailor', 'take', 'taken', 'taking', 'tale', 'talk', 'talked', 'talking', 'tall', 'taller', 'tap', 'tape', 'taping', 'tapped', 'tardis', 'tasha', 'task', 'teacher', 'team', 'tear', 'tec', 'tech', 'techie', 'technical', 'technically', 'technician', 'techno', 'technologically', 'technology', 'techy', 'teenager', 'teeth', 'tekkiealmost', 'telephone', 'television', 'tell', 'telling', 'temp', 'temperature', 'tempting', 'ten', 'tend', 'tends', 'terminology', 'terrible', 'terrific', 'terrificlove', 'test', 'tested', 'testing', 'texas', 'text', 'tg', 'tge', 'thank', 'thanks', 'thanksall', 'thanksworks', 'thats', 'thatthis', 'theater', 'theecho', 'theme', 'themi', 'themmy', 'themthe', 'theory', 'therefore', 'thermostat', 'thestand', 'thete', 'thick', 'thing', 'thingswe', 'think', 'thinking', 'third', 'thisawesome', 'thislove', 'thong', 'thorough', 'thoroughly', 'thou', 'though', 'thought', 'thoughtloved', 'thousand', 'three', 'thrilled', 'throughout', 'throw', 'thrown', 'thru', 'thu', 'thumb', 'thunderstorm', 'thursday', 'ti', 'tickled', 'tie', 'tiempo', 'tiene', 'til', 'till', 'time', 'timefun', 'timei', 'timeit', 'timelove', 'timer', 'timeri', 'timesi', 'timeummm', 'timing', 'tin', 'ting', 'tinker', 'tinkering', 'tinny', 'tiny', 'tip', 'tipping', 'tired', 'title', 'tivo', 'toda', 'today', 'toddler', 'together', 'toi', 'toilet', 'told', 'tolove', 'tomorrow', 'tomy', 'ton', 'tone', 'tony', 'took', 'tool', 'tooth', 'toovery', 'toowork', 'top', 'topic', 'tosca', 'total', 'totallly', 'totally', 'tou', 'touch', 'touching', 'touted', 'toward', 'towards', 'tower', 'town', 'toy', 'toylove', 'tp', 'track', 'traditional', 'traffic', 'trailer', 'trained', 'trainee', 'training', 'transferring', 'travel', 'traveling', 'travelling', 'través', 'treadmill', 'treat', 'treble', 'trek', 'tremendous', 'trending', 'trial', 'trick', 'tricky', 'tried', 'trigger', 'trip', 'trivia', 'trouble', 'troubleshooting', 'troublesome', 'troubling', 'true', 'truly', 'trust', 'try', 'trying', 'tube', 'tubi', 'tune', 'tunein', 'turn', 'turned', 'turning', 'tv', 'tveasy', 'tvvery', 'tvworks', 'tweeter', 'twice', 'twiceawesome', 'twist', 'twitter', 'two', 'ty', 'type', 'typed', 'typical', 'typically', 'typing', 'títulos', 'u', 'udefulness', 'ugly', 'uhyour', 'unable', 'unacceptable', 'unavailable', 'unbelievable', 'uncle', 'underestimated', 'understand', 'understanding', 'understands', 'understood', 'unexpected', 'unfortunately', 'unhappy', 'unhelpful', 'unico', 'unimportant', 'uninstall', 'unique', 'unit', 'universal', 'universali', 'unless', 'unlike', 'unlimited', 'unlocking', 'unnannounced', 'unnecessary', 'unobtrusive', 'unplug', 'unplugged', 'unresponsive', 'unsettling', 'untapped', 'unusable', 'unused', 'unwitty', 'unwrapped', 'upcoming', 'update', 'updated', 'updating', 'upgrade', 'upgraded', 'upgrading', 'upgreat', 'upi', 'upit', 'upload', 'uplove', 'upon', 'uppleased', 'upset', 'upsetting', 'upshe', 'upstairs', 'upusing', 'upwas', 'urge', 'usa', 'usable', 'usage', 'usagei', 'usb', 'usde', 'use', 'usea', 'useabsolutely', 'useawesome', 'useawesomegood', 'used', 'useease', 'useful', 'usefulgreat', 'usefulthis', 'usegreat', 'usei', 'useit', 'useless', 'uselove', 'useonce', 'useperfect', 'useput', 'user', 'usesuper', 'usethe', 'using', 'usingbought', 'usual', 'usually', 'utility', 'utilización', 'utilize', 'utilizing', 'v', 'vacation', 'vacuum', 'value', 'valuei', 'valuesuper', 'variant', 'variety', 'various', 'vast', 'vehicle', 'verbal', 'verbalize', 'verbally', 'versa', 'versatile', 'versatility', 'verse', 'version', 'versus', 'vetted', 'vez', 'via', 'vibrating', 'vice', 'viceo', 'video', 'videolike', 'videolove', 'videosdon', 'videoswas', 'view', 'viewed', 'viewing', 'vintage', 'viola', 'virtual', 'virtually', 'visa', 'visible', 'vision', 'visit', 'visiting', 'visual', 'visuals', 'vlan', 'voice', 'voiceview', 'voila', 'voltage', 'voltson', 'volume', 'volumei', 'vudu', 'w', 'wait', 'waited', 'waiting', 'wake', 'waking', 'walk', 'walked', 'walking', 'wall', 'want', 'wanted', 'wanting', 'warehouse', 'warning', 'warns', 'warranty', 'wasconcerned', 'wasnt', 'waste', 'wasted', 'watch', 'watched', 'watching', 'water', 'wattage', 'wave', 'way', 'weak', 'wealth', 'wear', 'weary', 'weather', 'weatherlove', 'web', 'website', 'wedding', 'week', 'weekday', 'weekend', 'weekly', 'weight', 'weird', 'welcome', 'well', 'wellabsolutly', 'welleverything', 'wellfour', 'welli', 'welllove', 'wellstill', 'wellthe', 'wellworks', 'went', 'whatever', 'whats', 'whatsoever', 'whe', 'whenever', 'wherever', 'whether', 'whisper', 'whistle', 'white', 'whiteinstalled', 'whole', 'whose', 'wi', 'wide', 'widespread', 'wife', 'wifi', 'wikipedia', 'willing', 'wind', 'window', 'wink', 'wireless', 'wish', 'wished', 'wishing', 'withas', 'within', 'without', 'withvery', 'withworks', 'woke', 'woken', 'wonder', 'wonderful', 'wonderfully', 'wonderfulused', 'wont', 'woofer', 'woohoo', 'word', 'work', 'workarounds', 'worked', 'worker', 'workgood', 'worki', 'working', 'workinghas', 'workit', 'worklove', 'workout', 'workreatthere', 'worksbought', 'worksdoes', 'worksi', 'workvery', 'world', 'worried', 'worry', 'worse', 'worst', 'worth', 'worthless', 'worthy', 'would', 'wow', 'writes', 'writing', 'wrong', 'www', 'x', 'xbox', 'xfinity', 'xm', 'yale', 'yard', 'yeah', 'year', 'yell', 'yelling', 'yellow', 'yep', 'yes', 'yesterday', 'yet', 'yeti', 'yhe', 'york', 'youi', 'youit', 'youlove', 'young', 'younger', 'youngest', 'yourselfi', 'youtube', 'youtubei', 'youtwo', 'youvery', 'yr', 'yup', 'z', 'zero', 'zigbee', 'zonked', 'zzzzit', 'zzzzzzz', 'í', 'útil']\n"
     ]
    }
   ],
   "source": [
    "print(X_counts.shape)\n",
    "print(count_vect.get_feature_names())"
   ]
  },
  {
   "cell_type": "markdown",
   "id": "42662919",
   "metadata": {},
   "source": [
    "###  Select the feature to match target set"
   ]
  },
  {
   "cell_type": "code",
   "execution_count": 96,
   "id": "4dc56cd5",
   "metadata": {},
   "outputs": [
    {
     "data": {
      "text/plain": [
       "(3150, 4098)"
      ]
     },
     "execution_count": 96,
     "metadata": {},
     "output_type": "execute_result"
    }
   ],
   "source": [
    "X_counts=X_counts[:3150]\n",
    "X_counts.shape"
   ]
  },
  {
   "cell_type": "markdown",
   "id": "ebeafd47",
   "metadata": {},
   "source": [
    "### Preparing feature x and target y"
   ]
  },
  {
   "cell_type": "code",
   "execution_count": 97,
   "id": "ae98bcb4",
   "metadata": {},
   "outputs": [],
   "source": [
    "X = pd.DataFrame(X_counts.toarray())\n",
    "y = data['feedback'].values"
   ]
  },
  {
   "cell_type": "markdown",
   "id": "ad05637a",
   "metadata": {},
   "source": [
    "### Train test split the data with 80% train and 20% test split"
   ]
  },
  {
   "cell_type": "code",
   "execution_count": 98,
   "id": "3d41e38f",
   "metadata": {},
   "outputs": [],
   "source": [
    "X_train, X_test, y_train, y_test = train_test_split(X, y, test_size=0.2)"
   ]
  },
  {
   "cell_type": "markdown",
   "id": "6086b9b9",
   "metadata": {},
   "source": [
    "### Train and test model"
   ]
  },
  {
   "cell_type": "markdown",
   "id": "2601f032",
   "metadata": {},
   "source": [
    "### 1 Linear Support vector machine"
   ]
  },
  {
   "cell_type": "code",
   "execution_count": 99,
   "id": "7970375d",
   "metadata": {},
   "outputs": [
    {
     "name": "stdout",
     "output_type": "stream",
     "text": [
      "0.9047619047619048\n"
     ]
    }
   ],
   "source": [
    "SVC_classifier = LinearSVC()\n",
    "SVC_classifier.fit(X_train, y_train)\n",
    "print(SVC_classifier.score(X_test, y_test))"
   ]
  },
  {
   "cell_type": "markdown",
   "id": "89ad9ddd",
   "metadata": {},
   "source": [
    "### Apply confusion matrix to test the result"
   ]
  },
  {
   "cell_type": "code",
   "execution_count": 100,
   "id": "baac61ea",
   "metadata": {},
   "outputs": [
    {
     "data": {
      "text/plain": [
       "<AxesSubplot:>"
      ]
     },
     "execution_count": 100,
     "metadata": {},
     "output_type": "execute_result"
    },
    {
     "data": {
      "image/png": "[encoded data removed]",
      "text/plain": [
       "<Figure size 432x288 with 2 Axes>"
      ]
     },
     "metadata": {
      "needs_background": "light"
     },
     "output_type": "display_data"
    }
   ],
   "source": [
    "y_predict_test = SVC_classifier.predict(X_test)\n",
    "cm = confusion_matrix(y_test, y_predict_test)\n",
    "sns.heatmap(cm, annot=True)"
   ]
  },
  {
   "cell_type": "markdown",
   "id": "f753a5ed",
   "metadata": {},
   "source": [
    "### Generating the classification report to check accuracy"
   ]
  },
  {
   "cell_type": "code",
   "execution_count": 101,
   "id": "6c87fa1a",
   "metadata": {},
   "outputs": [
    {
     "name": "stdout",
     "output_type": "stream",
     "text": [
      "              precision    recall  f1-score   support\n",
      "\n",
      "           0       0.00      0.00      0.00        58\n",
      "           1       0.91      1.00      0.95       572\n",
      "\n",
      "    accuracy                           0.90       630\n",
      "   macro avg       0.45      0.50      0.47       630\n",
      "weighted avg       0.82      0.90      0.86       630\n",
      "\n"
     ]
    }
   ],
   "source": [
    "print(classification_report(y_test, y_predict_test))"
   ]
  },
  {
   "cell_type": "markdown",
   "id": "a5f9c68f",
   "metadata": {},
   "source": [
    "### 2 Logistic Regression"
   ]
  },
  {
   "cell_type": "code",
   "execution_count": 102,
   "id": "5dbc424d",
   "metadata": {},
   "outputs": [
    {
     "name": "stdout",
     "output_type": "stream",
     "text": [
      "0.9079365079365079\n"
     ]
    }
   ],
   "source": [
    "LR = LogisticRegression()\n",
    "LR.fit(X_train, y_train)\n",
    "print(LR.score(X_test, y_test))"
   ]
  },
  {
   "cell_type": "markdown",
   "id": "0fb2c458",
   "metadata": {},
   "source": [
    "### Confusion matrix to check the result"
   ]
  },
  {
   "cell_type": "code",
   "execution_count": 103,
   "id": "c69599df",
   "metadata": {},
   "outputs": [
    {
     "data": {
      "text/plain": [
       "<AxesSubplot:>"
      ]
     },
     "execution_count": 103,
     "metadata": {},
     "output_type": "execute_result"
    },
    {
     "data": {
      "image/png": "[encoded data removed]",
      "text/plain": [
       "<Figure size 432x288 with 2 Axes>"
      ]
     },
     "metadata": {
      "needs_background": "light"
     },
     "output_type": "display_data"
    }
   ],
   "source": [
    "y_predict_test = LR.predict(X_test)\n",
    "cm = confusion_matrix(y_test, y_predict_test)\n",
    "sns.heatmap(cm, annot=True)"
   ]
  },
  {
   "cell_type": "markdown",
   "id": "a855d9de",
   "metadata": {},
   "source": [
    "### Generating the classification report to check accuracy"
   ]
  },
  {
   "cell_type": "code",
   "execution_count": 104,
   "id": "7b0f8f91",
   "metadata": {},
   "outputs": [
    {
     "name": "stdout",
     "output_type": "stream",
     "text": [
      "              precision    recall  f1-score   support\n",
      "\n",
      "           0       0.00      0.00      0.00        58\n",
      "           1       0.91      1.00      0.95       572\n",
      "\n",
      "    accuracy                           0.91       630\n",
      "   macro avg       0.45      0.50      0.48       630\n",
      "weighted avg       0.82      0.91      0.86       630\n",
      "\n"
     ]
    }
   ],
   "source": [
    "print(classification_report(y_test, y_predict_test))"
   ]
  },
  {
   "cell_type": "markdown",
   "id": "0a3ca4ff",
   "metadata": {},
   "source": [
    "### We have used 2 different models to predict the results.\n",
    "### 1. Support Vector Classifier =  Accuracy is 90% following with 58 and 2 values of false positive and false negative \n",
    "### 2. Logistic Regression = Accuracy is 91% with only 58 false positive values.\n",
    "### Hence we are selecting the Logistic regression model for our dataset"
   ]
  }
 ],
 "metadata": {
  "kernelspec": {
   "display_name": "Python 3 (ipykernel)",
   "language": "python",
   "name": "python3"
  },
  "language_info": {
   "codemirror_mode": {
    "name": "ipython",
    "version": 3
   },
   "file_extension": ".py",
   "mimetype": "text/x-python",
   "name": "python",
   "nbconvert_exporter": "python",
   "pygments_lexer": "ipython3",
   "version": "3.9.12"
  }
 },
 "nbformat": 4,
 "nbformat_minor": 5
}
